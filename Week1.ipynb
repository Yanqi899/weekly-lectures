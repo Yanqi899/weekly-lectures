{
  "nbformat": 4,
  "nbformat_minor": 0,
  "metadata": {
    "colab": {
      "provenance": []
    },
    "kernelspec": {
      "name": "python3",
      "display_name": "Python 3"
    },
    "language_info": {
      "name": "python"
    }
  },
  "cells": [
    {
      "cell_type": "code",
      "execution_count": null,
      "metadata": {
        "id": "KxNWswGSjbyH"
      },
      "outputs": [],
      "source": []
    },
    {
      "cell_type": "markdown",
      "source": [
        "# Week 1 Notes\n",
        "\n",
        "## Lecture 1: Criminology\n",
        "- Key idea:Introduction to the course and assessment; comparison between the Adversarial and Inquisitorial systems.\n",
        "- Reflection:I noticed how engaging Landon was as a lecturer — his American accent actually felt quite familiar to me. I took the chance to ask questions directly in class rather than by email, which made the discussion more interactive.\n",
        "- Research question:What qualifies someone to become a judge? How does this pathway differ from becoming a lawyer? (Landon mentioned that in many cases, senior lawyers later transition into judicial roles after retirement.)\n",
        "\n",
        "## Lecture 2: Existentialism\n",
        "- Key idea:Introduction to the course and assessment; overview of different existentialist thinkers such as Kant, Sartre, and Hegel.\n",
        "- Reflection:I realized it is important to look at the full lifespan of philosophers before taking their advice. For example, Sartre strongly advocated for freedom, but in his personal life he could be difficult, and in later years he struggled with health issues such as partial blindness. This made me think: there are many philosophers and many ideas in the world, but I need to choose through my own heart and personal style — selecting those whose ideas truly align with me. I also understood better the meaning of “hell is other people,” which led me to reflect critically on Sartre’s position.\n",
        "- Research question: What does it mean that “existence precedes essence”?\n",
        "\n",
        "## Lecture 3: Sociology\n",
        "- Key idea: Introduction to the research project, with the requirement that only qualitative methods can be used in this course.\n",
        "- Reflection:I realized I should pay attention to the hidden quizzes in the slides Briony shared. It was impressive to see how she embedded quiz questions into the material — a creative way to make us engage with the content more actively.\n",
        "- Research question:What are the differences between ontology and epistemology, and how do they shape sociological research? And what are the different types in these? Foundational, Anti-foundational. Postivism, Critical realism, Interpretivism.\n",
        "\n",
        "---\n",
        "\n",
        "## Weekly Summary\n",
        "- Common thread: I feel motivated to engage more deeply with each course and connect lectures to my own study habits.\n",
        "- Next steps:  \n",
        "  - For Philosophy: start looking at essay topics to build a stronger understanding of the course direction.  \n",
        "  - For Criminology: begin the pre-course work suggested by Landon.  \n",
        "  - For Sociology: review Briony’s PPT slides carefully to catch the embedded quizzes.  \n"
      ],
      "metadata": {
        "id": "OhE-ldDslN5T"
      }
    },
    {
      "cell_type": "markdown",
      "source": [],
      "metadata": {
        "id": "dxE6a1s3lMbv"
      }
    }
  ]
}